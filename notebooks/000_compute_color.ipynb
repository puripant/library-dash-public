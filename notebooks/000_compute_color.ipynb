{
 "cells": [
  {
   "cell_type": "code",
   "execution_count": 1,
   "id": "f8e2cff0-71f3-458f-acdf-f7318cea9976",
   "metadata": {},
   "outputs": [],
   "source": [
    "import pandas as pd\n",
    "import json"
   ]
  },
  {
   "cell_type": "code",
   "execution_count": 2,
   "id": "d303d38a-a6aa-4526-9674-c2bba3cc34dd",
   "metadata": {},
   "outputs": [],
   "source": [
    "get_path = lambda path: f'./mapped/{path}.json'\n",
    "files = [\"book\", \"patron\", \"rent\"]"
   ]
  },
  {
   "cell_type": "code",
   "execution_count": 3,
   "id": "3c8b72de-b8d6-42a9-882b-cab047102385",
   "metadata": {},
   "outputs": [],
   "source": [
    "tableau10 = [\"#4e79a7\", \"#f28e2c\", \"#e15759\", \"#76b7b2\", \"#59a14f\", \"#edc949\", \"#af7aa1\", \"#ff9da7\", \"#9c755f\", \"#bab0ab\"]"
   ]
  },
  {
   "cell_type": "code",
   "execution_count": 24,
   "id": "f69951d4-2718-4a62-96e0-9ecf78b87cf4",
   "metadata": {},
   "outputs": [],
   "source": [
    "def get_colors_factory(df):\n",
    "    def get_colors_map(dim):\n",
    "        count = df.groupby(dim).size().sort_values(ascending=False)\n",
    "        if type(count.index[0]) == str:\n",
    "            if (dim == 'title'):\n",
    "                colorsMap = {\"others\": \"gainsboro\"}\n",
    "            else:\n",
    "                colorsMap = dict(zip(count.index, tableau10))\n",
    "            return colorsMap\n",
    "        else:\n",
    "            idx = count.index\n",
    "            extent = [idx.min(), idx.max()]\n",
    "            return extent\n",
    "    return get_colors_map"
   ]
  },
  {
   "cell_type": "code",
   "execution_count": 25,
   "id": "5d2e8d46-6745-4d43-b42d-a8e67d049b43",
   "metadata": {},
   "outputs": [],
   "source": [
    "def to_color_map(path):\n",
    "    df = pd.io.json.read_json(get_path(path))\n",
    "    dims = df.columns[1:]\n",
    "    get_colors_map = get_colors_factory(df)\n",
    "    return dict(zip(dims, (map(get_colors_map, dims))))"
   ]
  },
  {
   "cell_type": "code",
   "execution_count": 22,
   "id": "badf24ad-765f-4ac0-9a98-b2d48a4c0c7c",
   "metadata": {},
   "outputs": [
    {
     "name": "stdout",
     "output_type": "stream",
     "text": [
      "title\n",
      "library\n",
      "language_code\n",
      "day\n",
      "period\n",
      "ptype\n",
      "library\n",
      "day\n",
      "period\n",
      "faculty\n",
      "library\n",
      "title\n",
      "day\n",
      "period\n"
     ]
    }
   ],
   "source": [
    "res = dict(zip(files, map(to_color_map, files)))"
   ]
  },
  {
   "cell_type": "code",
   "execution_count": 26,
   "id": "9a5682da-fb58-42e0-bbad-d8f91f05fe8e",
   "metadata": {},
   "outputs": [],
   "source": [
    "f = open('./faculties_map.json')\n",
    "faculties = json.load(f)\n",
    "\n",
    "f2 = open('./library_map.json')\n",
    "library = json.load(f2)"
   ]
  },
  {
   "cell_type": "code",
   "execution_count": null,
   "id": "93db9bde-797c-4401-adc0-844b454012c1",
   "metadata": {},
   "outputs": [],
   "source": []
  },
  {
   "cell_type": "code",
   "execution_count": 41,
   "id": "d8fd5054-aaea-4fa4-8295-bcebda690507",
   "metadata": {},
   "outputs": [
    {
     "data": {
      "text/plain": [
       "'{\"Agricultural\": \"#FFC0CB\", \"Architecture\": \"#921920\", \"Arts\": \"#6D6D6D\", \"Chula Business School\": \"#16B0FE\", \"Communication Arts\": \"#000077\", \"Dentistry\": \"#CFB0CE\", \"Economics\": \"#FED009\", \"Education\": \"#FB2D08\", \"Engineering\": \"#760001\", \"Fine & Applied Arts Library\": \"#FB0006\", \"Law\": \"#FFFFFF\", \"Medicine\": \"#0B5401\", \"Nursing\": \"#B3000B\", \"Others\": \"#FFC0CB\", \"Pharmaceutical Sciences\": \"#597E1B\", \"Political Science\": \"#000000\", \"Psychology\": \"#0000C1\", \"Public Health Sciences Library\": \"#39006F\", \"Sasin\": \"#16B0FE\", \"Science\": \"#FFFF0B\", \"Sport Science\": \"#FD9408\", \"Veterinary\": \"#77C3F8\"}'"
      ]
     },
     "execution_count": 41,
     "metadata": {},
     "output_type": "execute_result"
    }
   ],
   "source": [
    "fac_color = {'Veterinary': '#77C3F8',\n",
    " 'Others': '#FFC0CB',\n",
    " 'Science': '#FFFF0B',\n",
    " 'Architecture': '#921920',\n",
    " 'Arts': '#6D6D6D',\n",
    " 'Law': '#FFFFFF',\n",
    " 'Medicine': '#0B5401',\n",
    " 'Political Science': '#000000',\n",
    " 'Pharmaceutical Sciences': '#597E1B',\n",
    " 'Engineering': '#760001',\n",
    " 'Chula Business School': '#16B0FE',\n",
    " 'Education': '#FB2D08',\n",
    " 'Dentistry': '#CFB0CE',\n",
    " 'Public Health Sciences Library': '#39006F',\n",
    " 'Sport Science': '#FD9408',\n",
    " 'Fine & Applied Arts Library': '#FB0006',\n",
    " 'Economics': '#FED009',\n",
    " 'Communication Arts': '#000077',\n",
    " 'Psychology': '#0000C1',\n",
    " 'Sasin': '#16B0FE',\n",
    " 'Nursing': '#B3000B',\n",
    " 'Agricultural': '#FFC0CB'}\n",
    "json.dumps(dict(sorted(fac_color.items())))"
   ]
  },
  {
   "cell_type": "code",
   "execution_count": 40,
   "id": "bdceb3cf-8ee0-45a1-994e-969c8fbd0b64",
   "metadata": {},
   "outputs": [
    {
     "data": {
      "text/plain": [
       "'{\"Architecture Library\": \"#921920\", \"Arts Library\": \"#6D6D6D\", \"Asia Study Institute Library\": \"#FFC0CB\", \"Center of Excellence on Hazardous Substance Management Library\": \"#FFC0CB\", \"Central Library\": \"#FFC0CB\", \"Chula Business School Library\": \"#16B0FE\", \"College of Public Health Sciences Library\": \"#39006F\", \"Communication Arts  Library\": \"#000077\", \"Dentistry Library\": \"#CFB0CE\", \"Economics Library\": \"#FED009\", \"Education Library\": \"#FB2D08\", \"Engineering Library\": \"#760001\", \"Environmental Research Institute Library\": \"#FFC0CB\", \"Fine & Applied Arts Library\": \"#FB0006\", \"Language Institute Library\": \"#FFC0CB\", \"Law Library\": \"#FFFFFF\", \"Medicine Library\": \"#0B5401\", \"Pharmaceutical Sciences Library\": \"#597E1B\", \"Political Science Library\": \"#000000\", \"Sasin Library\": \"#16B0FE\", \"Science Library\": \"#FFFF0B\", \"Scientific and Technological Research Equipment Centre\\\\u00a0Library\": \"#FFC0CB\", \"Thai Music Library\": \"#FFC0CB\", \"Thailand and ASEAN Information Center\": \"#FFC0CB\", \"Veterinary Science Library\": \"#77C3F8\"}'"
      ]
     },
     "execution_count": 40,
     "metadata": {},
     "output_type": "execute_result"
    }
   ],
   "source": [
    "lib_color = {'Veterinary Science Library': '#77C3F8',\n",
    " 'Central Library': '#FFC0CB',\n",
    " 'Thailand and ASEAN Information Center': '#FFC0CB',\n",
    " 'Asia Study Institute Library': '#FFC0CB',\n",
    " 'Scientific and Technological Research Equipment Centre\\xa0Library': '#FFC0CB',\n",
    " 'Center of Excellence on Hazardous Substance Management Library': '#FFC0CB',\n",
    " 'Language Institute Library': '#FFC0CB',\n",
    " 'Environmental Research Institute Library': '#FFC0CB',\n",
    " 'Thai Music Library': '#FFC0CB',\n",
    " 'Arts Library': '#6D6D6D',\n",
    " 'Sasin Library': '#16B0FE',\n",
    " 'Chula Business School Library': '#16B0FE',\n",
    " 'Dentistry Library': '#CFB0CE',\n",
    " 'Science Library': '#FFFF0B',\n",
    " 'Pharmaceutical Sciences Library': '#597E1B',\n",
    " 'Engineering Library': '#760001',\n",
    " 'Medicine Library': '#0B5401',\n",
    " 'Economics Library': '#FED009',\n",
    " 'Education Library': '#FB2D08',\n",
    " 'Political Science Library': '#000000',\n",
    " 'Communication Arts  Library': '#000077',\n",
    " 'Law Library': '#FFFFFF',\n",
    " 'Architecture Library': '#921920',\n",
    " 'College of Public Health Sciences Library': '#39006F',\n",
    " 'Fine & Applied Arts Library': '#FB0006'}\n",
    "json.dumps(dict(sorted(lib_color.items())))"
   ]
  },
  {
   "cell_type": "code",
   "execution_count": null,
   "id": "221f6602-cf43-4164-86f4-44a981fc964b",
   "metadata": {},
   "outputs": [],
   "source": []
  },
  {
   "cell_type": "code",
   "execution_count": null,
   "id": "142ef39c-5d7b-4a3c-977c-7d422bcda9dc",
   "metadata": {},
   "outputs": [],
   "source": []
  },
  {
   "cell_type": "code",
   "execution_count": null,
   "id": "3ff522cf-9ee6-4af3-822a-4d6b50a35ae7",
   "metadata": {},
   "outputs": [],
   "source": []
  },
  {
   "cell_type": "code",
   "execution_count": 7,
   "id": "a6102180-be66-45db-9124-4c7d44b2835a",
   "metadata": {},
   "outputs": [],
   "source": [
    "# with open('./colors.json', 'w') as f:\n",
    "#     f.write(json.dumps(res))"
   ]
  },
  {
   "cell_type": "code",
   "execution_count": null,
   "id": "c74eea62-8f70-497c-8692-5fdc9761dba0",
   "metadata": {},
   "outputs": [],
   "source": []
  }
 ],
 "metadata": {
  "kernelspec": {
   "display_name": "Python 3",
   "language": "python",
   "name": "python3"
  },
  "language_info": {
   "codemirror_mode": {
    "name": "ipython",
    "version": 3
   },
   "file_extension": ".py",
   "mimetype": "text/x-python",
   "name": "python",
   "nbconvert_exporter": "python",
   "pygments_lexer": "ipython3",
   "version": "3.8.8"
  }
 },
 "nbformat": 4,
 "nbformat_minor": 5
}
