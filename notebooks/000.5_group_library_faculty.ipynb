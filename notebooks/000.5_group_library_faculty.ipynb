{
 "cells": [
  {
   "cell_type": "code",
   "execution_count": 1,
   "id": "1b97a9e9-d959-48e9-be9e-d6d200b1bc03",
   "metadata": {},
   "outputs": [],
   "source": [
    "import numpy as np\n",
    "import pandas as pd\n",
    "import json\n",
    "\n",
    "import ipywidgets as widgets\n",
    "from IPython.display import display\n",
    "\n",
    "import matplotlib.pyplot as plt"
   ]
  },
  {
   "cell_type": "code",
   "execution_count": 2,
   "id": "28e4fad3-2e49-49d5-85d0-906cbdb9f08f",
   "metadata": {},
   "outputs": [],
   "source": [
    "def read_file(path):\n",
    "    return pd.io.json.read_json(get_path(path))\n",
    "\n",
    "\n",
    "get_path = lambda path: f'./json/{path}.json'\n",
    "files = [\"book\", \"patron\", \"rent\"]\n",
    "dfs = dict(zip(files, map(read_file, files)))"
   ]
  },
  {
   "cell_type": "code",
   "execution_count": 3,
   "id": "5d1ac60f-8d13-4e45-bcf9-8877148667e1",
   "metadata": {},
   "outputs": [],
   "source": [
    "f = open('./faculties_map.json')\n",
    "faculties = json.load(f)\n",
    "\n",
    "f2 = open('./library_map.json')\n",
    "library = json.load(f2)"
   ]
  },
  {
   "cell_type": "code",
   "execution_count": 4,
   "id": "e826ab08-568d-4947-8e28-757ff169f1aa",
   "metadata": {},
   "outputs": [],
   "source": [
    "faculties_map = {}\n",
    "for k,v in faculties.items():\n",
    "    for x in v:\n",
    "        faculties_map[x] = k\n",
    "        \n",
    "library_map = {}\n",
    "for k,v in library.items():\n",
    "    for x in v:\n",
    "        library_map[x] = k"
   ]
  },
  {
   "cell_type": "code",
   "execution_count": 5,
   "id": "67034f03-4749-4030-bb66-67a45d003fc3",
   "metadata": {},
   "outputs": [],
   "source": [
    "dfs['book']['library'] = dfs['book']['library'].map(library_map)\n",
    "dfs['book'].to_json('./mapped/book.json', orient='records')"
   ]
  },
  {
   "cell_type": "code",
   "execution_count": 10,
   "id": "58d8bf8d-093b-4924-b06e-8fdf03b30adf",
   "metadata": {},
   "outputs": [],
   "source": [
    "dfs['patron']['library'] = dfs['patron']['library'].map(library_map)\n",
    "dfs['patron']['ptype'] = dfs['patron']['ptype'].map(faculties_map)\n",
    "dfs['patron'].to_json('./mapped/patron.json', orient='records')"
   ]
  },
  {
   "cell_type": "code",
   "execution_count": 7,
   "id": "22174e28-e9f6-41ed-b92c-1910b9693472",
   "metadata": {},
   "outputs": [],
   "source": [
    "dfs['rent']['library'] = dfs['rent']['library'].map(library_map)\n",
    "dfs['rent']['faculty'] = dfs['rent']['faculty'].map(faculties_map)\n",
    "dfs['rent'].to_json('./mapped/rent.json', orient='records')"
   ]
  },
  {
   "cell_type": "code",
   "execution_count": 8,
   "id": "4c289f32-a01f-487c-80c1-8954844e595d",
   "metadata": {},
   "outputs": [
    {
     "data": {
      "text/html": [
       "<div>\n",
       "<style scoped>\n",
       "    .dataframe tbody tr th:only-of-type {\n",
       "        vertical-align: middle;\n",
       "    }\n",
       "\n",
       "    .dataframe tbody tr th {\n",
       "        vertical-align: top;\n",
       "    }\n",
       "\n",
       "    .dataframe thead th {\n",
       "        text-align: right;\n",
       "    }\n",
       "</style>\n",
       "<table border=\"1\" class=\"dataframe\">\n",
       "  <thead>\n",
       "    <tr style=\"text-align: right;\">\n",
       "      <th></th>\n",
       "      <th>id</th>\n",
       "      <th>faculty</th>\n",
       "      <th>library</th>\n",
       "      <th>title</th>\n",
       "      <th>day</th>\n",
       "      <th>month</th>\n",
       "      <th>year</th>\n",
       "      <th>period</th>\n",
       "    </tr>\n",
       "  </thead>\n",
       "  <tbody>\n",
       "    <tr>\n",
       "      <th>0</th>\n",
       "      <td>0</td>\n",
       "      <td>Veterinary</td>\n",
       "      <td>Veterinary Science Library</td>\n",
       "      <td>Miller's guide to the dissection of the dog</td>\n",
       "      <td>Fri</td>\n",
       "      <td>4</td>\n",
       "      <td>2011</td>\n",
       "      <td>morning</td>\n",
       "    </tr>\n",
       "    <tr>\n",
       "      <th>1</th>\n",
       "      <td>1</td>\n",
       "      <td>Veterinary</td>\n",
       "      <td>Veterinary Science Library</td>\n",
       "      <td>Small Animal Dentistry</td>\n",
       "      <td>Thu</td>\n",
       "      <td>7</td>\n",
       "      <td>2010</td>\n",
       "      <td>afternoon</td>\n",
       "    </tr>\n",
       "    <tr>\n",
       "      <th>2</th>\n",
       "      <td>2</td>\n",
       "      <td>Veterinary</td>\n",
       "      <td>Veterinary Science Library</td>\n",
       "      <td>Clinical sciences</td>\n",
       "      <td>Mon</td>\n",
       "      <td>7</td>\n",
       "      <td>2010</td>\n",
       "      <td>afternoon</td>\n",
       "    </tr>\n",
       "    <tr>\n",
       "      <th>3</th>\n",
       "      <td>3</td>\n",
       "      <td>Veterinary</td>\n",
       "      <td>Veterinary Science Library</td>\n",
       "      <td>The 5 minute Veterinary consult clinical compa...</td>\n",
       "      <td>Fri</td>\n",
       "      <td>6</td>\n",
       "      <td>2010</td>\n",
       "      <td>morning</td>\n",
       "    </tr>\n",
       "    <tr>\n",
       "      <th>4</th>\n",
       "      <td>4</td>\n",
       "      <td>Veterinary</td>\n",
       "      <td>Veterinary Science Library</td>\n",
       "      <td>Managing a veterinary practice</td>\n",
       "      <td>Wed</td>\n",
       "      <td>3</td>\n",
       "      <td>2011</td>\n",
       "      <td>morning</td>\n",
       "    </tr>\n",
       "  </tbody>\n",
       "</table>\n",
       "</div>"
      ],
      "text/plain": [
       "   id     faculty                     library  \\\n",
       "0   0  Veterinary  Veterinary Science Library   \n",
       "1   1  Veterinary  Veterinary Science Library   \n",
       "2   2  Veterinary  Veterinary Science Library   \n",
       "3   3  Veterinary  Veterinary Science Library   \n",
       "4   4  Veterinary  Veterinary Science Library   \n",
       "\n",
       "                                               title  day  month  year  \\\n",
       "0        Miller's guide to the dissection of the dog  Fri      4  2011   \n",
       "1                             Small Animal Dentistry  Thu      7  2010   \n",
       "2                                  Clinical sciences  Mon      7  2010   \n",
       "3  The 5 minute Veterinary consult clinical compa...  Fri      6  2010   \n",
       "4                     Managing a veterinary practice  Wed      3  2011   \n",
       "\n",
       "      period  \n",
       "0    morning  \n",
       "1  afternoon  \n",
       "2  afternoon  \n",
       "3    morning  \n",
       "4    morning  "
      ]
     },
     "execution_count": 8,
     "metadata": {},
     "output_type": "execute_result"
    }
   ],
   "source": [
    "dfs['rent'].head()"
   ]
  },
  {
   "cell_type": "code",
   "execution_count": null,
   "id": "09dd5d7e-c721-4b98-a1ac-bb968e1be472",
   "metadata": {},
   "outputs": [],
   "source": []
  }
 ],
 "metadata": {
  "kernelspec": {
   "display_name": "Python 3",
   "language": "python",
   "name": "python3"
  },
  "language_info": {
   "codemirror_mode": {
    "name": "ipython",
    "version": 3
   },
   "file_extension": ".py",
   "mimetype": "text/x-python",
   "name": "python",
   "nbconvert_exporter": "python",
   "pygments_lexer": "ipython3",
   "version": "3.8.8"
  }
 },
 "nbformat": 4,
 "nbformat_minor": 5
}
