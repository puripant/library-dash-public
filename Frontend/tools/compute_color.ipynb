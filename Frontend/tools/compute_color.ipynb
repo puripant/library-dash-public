{
 "cells": [
  {
   "cell_type": "code",
   "execution_count": 34,
   "id": "f8e2cff0-71f3-458f-acdf-f7318cea9976",
   "metadata": {},
   "outputs": [],
   "source": [
    "import pandas as pd\n",
    "import json"
   ]
  },
  {
   "cell_type": "code",
   "execution_count": 28,
   "id": "d303d38a-a6aa-4526-9674-c2bba3cc34dd",
   "metadata": {},
   "outputs": [],
   "source": [
    "get_path = lambda path: f'./tools/static/json/{path}.json'\n",
    "files = [\"book\", \"patron\", \"rent\"]"
   ]
  },
  {
   "cell_type": "code",
   "execution_count": 29,
   "id": "3c8b72de-b8d6-42a9-882b-cab047102385",
   "metadata": {},
   "outputs": [],
   "source": [
    "tableau10 = [\"#4e79a7\", \"#f28e2c\", \"#e15759\", \"#76b7b2\", \"#59a14f\", \"#edc949\", \"#af7aa1\", \"#ff9da7\", \"#9c755f\", \"#bab0ab\"]"
   ]
  },
  {
   "cell_type": "code",
   "execution_count": 30,
   "id": "f69951d4-2718-4a62-96e0-9ecf78b87cf4",
   "metadata": {},
   "outputs": [],
   "source": [
    "def get_colors_factory(df):\n",
    "    def get_colors_map(dim):\n",
    "        count = df.groupby(dim).size().sort_values(ascending=False)\n",
    "        if type(count.index[0]) == str:\n",
    "            top10 = count[:10]\n",
    "            colorsMap = dict(zip(top10.index, tableau10))\n",
    "            return colorsMap\n",
    "        else:\n",
    "            idx = count.index\n",
    "            extent = [idx.min(), idx.max()]\n",
    "            return extent\n",
    "    return get_colors_map"
   ]
  },
  {
   "cell_type": "code",
   "execution_count": 31,
   "id": "5d2e8d46-6745-4d43-b42d-a8e67d049b43",
   "metadata": {},
   "outputs": [],
   "source": [
    "def to_color_map(path):\n",
    "    df = pd.io.json.read_json(get_path(path))\n",
    "    dims = df.columns[1:]\n",
    "    get_colors_map = get_colors_factory(df)\n",
    "    return dict(zip(dims, (map(get_colors_map, dims))))"
   ]
  },
  {
   "cell_type": "code",
   "execution_count": 32,
   "id": "badf24ad-765f-4ac0-9a98-b2d48a4c0c7c",
   "metadata": {},
   "outputs": [],
   "source": [
    "res = dict(zip(files, map(to_color_map, files)))"
   ]
  },
  {
   "cell_type": "code",
   "execution_count": 36,
   "id": "a6102180-be66-45db-9124-4c7d44b2835a",
   "metadata": {},
   "outputs": [],
   "source": [
    "with open('./colors.json', 'w') as f:\n",
    "    f.write(json.dumps(res))"
   ]
  },
  {
   "cell_type": "code",
   "execution_count": null,
   "id": "48d8fb74-6d77-41b7-97fd-3f5b258054f9",
   "metadata": {},
   "outputs": [],
   "source": []
  }
 ],
 "metadata": {
  "kernelspec": {
   "display_name": "Python 3",
   "language": "python",
   "name": "python3"
  },
  "language_info": {
   "codemirror_mode": {
    "name": "ipython",
    "version": 3
   },
   "file_extension": ".py",
   "mimetype": "text/x-python",
   "name": "python",
   "nbconvert_exporter": "python",
   "pygments_lexer": "ipython3",
   "version": "3.8.8"
  }
 },
 "nbformat": 4,
 "nbformat_minor": 5
}
