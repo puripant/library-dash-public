{
 "cells": [
  {
   "cell_type": "code",
   "execution_count": 181,
   "id": "842c2279-91bc-4d41-8452-e19c053619e7",
   "metadata": {},
   "outputs": [],
   "source": [
    "import numpy as np\n",
    "import pandas as pd\n",
    "import json\n",
    "\n",
    "import ipywidgets as widgets\n",
    "from IPython.display import display\n",
    "\n",
    "import matplotlib.pyplot as plt"
   ]
  },
  {
   "cell_type": "code",
   "execution_count": 2,
   "id": "8c07058b-3253-4574-a630-d5db06266b0a",
   "metadata": {},
   "outputs": [],
   "source": [
    "def read_file(path):\n",
    "    return pd.io.json.read_json(get_path(path))\n",
    "\n",
    "\n",
    "get_path = lambda path: f'./json/{path}.json'\n",
    "files = [\"book\", \"patron\", \"rent\"]\n",
    "dfs = dict(zip(files, map(read_file, files)))"
   ]
  },
  {
   "cell_type": "markdown",
   "id": "37a8e4fc-58a5-4b2d-b45d-50c4d7709fac",
   "metadata": {},
   "source": [
    "## Book that store in 1 library but rented a lot in another library"
   ]
  },
  {
   "cell_type": "code",
   "execution_count": 17,
   "id": "c8cb9858-7fef-49e5-b701-7f93be862c89",
   "metadata": {},
   "outputs": [],
   "source": [
    "rent_by_title_library = dfs['rent'].groupby(['title', 'library']).size().sort_values(ascending=False)\n",
    "rent_by_title_library.name = 'rent_count'"
   ]
  },
  {
   "cell_type": "code",
   "execution_count": 19,
   "id": "e9f6b0e7-a3c4-4a87-b077-19de7302ce51",
   "metadata": {},
   "outputs": [],
   "source": [
    "book_by_title_library = dfs['book'].groupby(['title', 'library']).size().sort_values(ascending=False)\n",
    "book_by_title_library.name = 'book_count'"
   ]
  },
  {
   "cell_type": "code",
   "execution_count": 25,
   "id": "b38bc87b-347e-4f1a-ab09-7d9c70358c6b",
   "metadata": {},
   "outputs": [
    {
     "name": "stdout",
     "output_type": "stream",
     "text": [
      "(129480, 2)\n"
     ]
    }
   ],
   "source": [
    "tl = (pd.concat([rent_by_title_library, book_by_title_library], axis=1)\n",
    "        .dropna()\n",
    "    )\n",
    "print(tl.shape)"
   ]
  },
  {
   "cell_type": "code",
   "execution_count": 66,
   "id": "ef2f21c0-a620-494f-aac2-1b55f0e06839",
   "metadata": {},
   "outputs": [
    {
     "data": {
      "text/html": [
       "<div>\n",
       "<style scoped>\n",
       "    .dataframe tbody tr th:only-of-type {\n",
       "        vertical-align: middle;\n",
       "    }\n",
       "\n",
       "    .dataframe tbody tr th {\n",
       "        vertical-align: top;\n",
       "    }\n",
       "\n",
       "    .dataframe thead th {\n",
       "        text-align: right;\n",
       "    }\n",
       "</style>\n",
       "<table border=\"1\" class=\"dataframe\">\n",
       "  <thead>\n",
       "    <tr style=\"text-align: right;\">\n",
       "      <th></th>\n",
       "      <th></th>\n",
       "      <th>rent_count</th>\n",
       "      <th>book_count</th>\n",
       "    </tr>\n",
       "    <tr>\n",
       "      <th>title</th>\n",
       "      <th>library</th>\n",
       "      <th></th>\n",
       "      <th></th>\n",
       "    </tr>\n",
       "  </thead>\n",
       "  <tbody>\n",
       "    <tr>\n",
       "      <th rowspan=\"2\" valign=\"top\">\"Good coup\" gone bad : Thailand's political developments since Thaksin's downfall</th>\n",
       "      <th>Arts Library</th>\n",
       "      <td>3.0</td>\n",
       "      <td>3.0</td>\n",
       "    </tr>\n",
       "    <tr>\n",
       "      <th>Political Science Library</th>\n",
       "      <td>5.0</td>\n",
       "      <td>5.0</td>\n",
       "    </tr>\n",
       "    <tr>\n",
       "      <th rowspan=\"2\" valign=\"top\">\"ข้ออ้าง\" การปฏิวัติ-รัฐประหาร : กบฏในการเมืองไทยปัจจุบัน บทวิเคราะห์และเอกสาร = \"Reason\" for coups in modern Siam/Thailand : document and analysis</th>\n",
       "      <th>Political Science Library</th>\n",
       "      <td>6.0</td>\n",
       "      <td>15.0</td>\n",
       "    </tr>\n",
       "    <tr>\n",
       "      <th>Thailand and ASEAN Information Center (6th Floor)</th>\n",
       "      <td>1.0</td>\n",
       "      <td>2.0</td>\n",
       "    </tr>\n",
       "    <tr>\n",
       "      <th>\"ข้ออ้าง\" การปฏิวัติ-รัฐประหารในการเมืองไทยสมัยใหม่</th>\n",
       "      <th>Central Library (5th Floor)</th>\n",
       "      <td>7.0</td>\n",
       "      <td>10.0</td>\n",
       "    </tr>\n",
       "    <tr>\n",
       "      <th>...</th>\n",
       "      <th>...</th>\n",
       "      <td>...</td>\n",
       "      <td>...</td>\n",
       "    </tr>\n",
       "    <tr>\n",
       "      <th>ไอแซก อาซิมอฟ ถาม-ตอบเรื่องโลกและจักรวาล = Isaac Asimov's guide to earth and space</th>\n",
       "      <th>Education Library</th>\n",
       "      <td>1.0</td>\n",
       "      <td>3.0</td>\n",
       "    </tr>\n",
       "    <tr>\n",
       "      <th rowspan=\"2\" valign=\"top\">ไฮดี้ = Heidi</th>\n",
       "      <th>Arts Library</th>\n",
       "      <td>1.0</td>\n",
       "      <td>19.0</td>\n",
       "    </tr>\n",
       "    <tr>\n",
       "      <th>Central Library : Juvenile Collection (4th Floor)</th>\n",
       "      <td>5.0</td>\n",
       "      <td>11.0</td>\n",
       "    </tr>\n",
       "    <tr>\n",
       "      <th rowspan=\"2\" valign=\"top\">ไฮเทคาถาปาฏิหาริย์ ว่าด้วยวิทยาศาสตร์และเทคโนโลยีในสังคมไทย</th>\n",
       "      <th>Central Library (5th Floor)</th>\n",
       "      <td>2.0</td>\n",
       "      <td>10.0</td>\n",
       "    </tr>\n",
       "    <tr>\n",
       "      <th>Thailand and ASEAN Information Center (6th Floor)</th>\n",
       "      <td>1.0</td>\n",
       "      <td>2.0</td>\n",
       "    </tr>\n",
       "  </tbody>\n",
       "</table>\n",
       "<p>35101 rows × 2 columns</p>\n",
       "</div>"
      ],
      "text/plain": [
       "                                                                                                      rent_count  \\\n",
       "title                                              library                                                         \n",
       "\"Good coup\" gone bad : Thailand's political dev... Arts Library                                              3.0   \n",
       "                                                   Political Science Library                                 5.0   \n",
       "\"ข้ออ้าง\" การปฏิวัติ-รัฐประหาร : กบฏในการเมืองไ... Political Science Library                                 6.0   \n",
       "                                                   Thailand and ASEAN Information Center (6th Floor)         1.0   \n",
       "\"ข้ออ้าง\" การปฏิวัติ-รัฐประหารในการเมืองไทยสมัย... Central Library (5th Floor)                               7.0   \n",
       "...                                                                                                          ...   \n",
       "ไอแซก อาซิมอฟ ถาม-ตอบเรื่องโลกและจักรวาล = Isaa... Education Library                                         1.0   \n",
       "ไฮดี้ = Heidi                                      Arts Library                                              1.0   \n",
       "                                                   Central Library : Juvenile Collection (4th Floor)         5.0   \n",
       "ไฮเทคาถาปาฏิหาริย์ ว่าด้วยวิทยาศาสตร์และเทคโนโล... Central Library (5th Floor)                               2.0   \n",
       "                                                   Thailand and ASEAN Information Center (6th Floor)         1.0   \n",
       "\n",
       "                                                                                                      book_count  \n",
       "title                                              library                                                        \n",
       "\"Good coup\" gone bad : Thailand's political dev... Arts Library                                              3.0  \n",
       "                                                   Political Science Library                                 5.0  \n",
       "\"ข้ออ้าง\" การปฏิวัติ-รัฐประหาร : กบฏในการเมืองไ... Political Science Library                                15.0  \n",
       "                                                   Thailand and ASEAN Information Center (6th Floor)         2.0  \n",
       "\"ข้ออ้าง\" การปฏิวัติ-รัฐประหารในการเมืองไทยสมัย... Central Library (5th Floor)                              10.0  \n",
       "...                                                                                                          ...  \n",
       "ไอแซก อาซิมอฟ ถาม-ตอบเรื่องโลกและจักรวาล = Isaa... Education Library                                         3.0  \n",
       "ไฮดี้ = Heidi                                      Arts Library                                             19.0  \n",
       "                                                   Central Library : Juvenile Collection (4th Floor)        11.0  \n",
       "ไฮเทคาถาปาฏิหาริย์ ว่าด้วยวิทยาศาสตร์และเทคโนโล... Central Library (5th Floor)                              10.0  \n",
       "                                                   Thailand and ASEAN Information Center (6th Floor)         2.0  \n",
       "\n",
       "[35101 rows x 2 columns]"
      ]
     },
     "execution_count": 66,
     "metadata": {},
     "output_type": "execute_result"
    }
   ],
   "source": [
    "book_multiple_library = tl[tl.index.get_level_values(0).duplicated(keep=False)].sort_index(level=[0])\n",
    "book_multiple_library"
   ]
  },
  {
   "cell_type": "code",
   "execution_count": 67,
   "id": "c09e2353-84d5-4989-8dff-ef96414e3386",
   "metadata": {},
   "outputs": [],
   "source": [
    "book_multiple_library['ratio'] = book_multiple_library['rent_count'] / book_multiple_library['book_count']"
   ]
  },
  {
   "cell_type": "code",
   "execution_count": 80,
   "id": "f02a301d-3a39-4846-809f-24fefa9d1608",
   "metadata": {},
   "outputs": [
    {
     "data": {
      "text/html": [
       "<div>\n",
       "<style scoped>\n",
       "    .dataframe tbody tr th:only-of-type {\n",
       "        vertical-align: middle;\n",
       "    }\n",
       "\n",
       "    .dataframe tbody tr th {\n",
       "        vertical-align: top;\n",
       "    }\n",
       "\n",
       "    .dataframe thead th {\n",
       "        text-align: right;\n",
       "    }\n",
       "</style>\n",
       "<table border=\"1\" class=\"dataframe\">\n",
       "  <thead>\n",
       "    <tr style=\"text-align: right;\">\n",
       "      <th></th>\n",
       "      <th></th>\n",
       "      <th>rent_count</th>\n",
       "      <th>book_count</th>\n",
       "      <th>ratio</th>\n",
       "    </tr>\n",
       "    <tr>\n",
       "      <th>title</th>\n",
       "      <th>library</th>\n",
       "      <th></th>\n",
       "      <th></th>\n",
       "      <th></th>\n",
       "    </tr>\n",
       "  </thead>\n",
       "  <tbody>\n",
       "    <tr>\n",
       "      <th>ใต้เงาอสูร</th>\n",
       "      <th>Central Library (4th Floor)</th>\n",
       "      <td>40.0</td>\n",
       "      <td>40.0</td>\n",
       "      <td>1.0</td>\n",
       "    </tr>\n",
       "    <tr>\n",
       "      <th>การต่างประเทศไทยในยุคสงครามเย็น</th>\n",
       "      <th>Political Science Library</th>\n",
       "      <td>30.0</td>\n",
       "      <td>30.0</td>\n",
       "      <td>1.0</td>\n",
       "    </tr>\n",
       "    <tr>\n",
       "      <th>ทฤษฎีการเมืองกับความสัมพันธ์ระหว่างประเทศ</th>\n",
       "      <th>Political Science Library</th>\n",
       "      <td>25.0</td>\n",
       "      <td>25.0</td>\n",
       "      <td>1.0</td>\n",
       "    </tr>\n",
       "    <tr>\n",
       "      <th>การบริหารงานคลังรัฐบาล</th>\n",
       "      <th>Central Library (5th Floor)</th>\n",
       "      <td>24.0</td>\n",
       "      <td>24.0</td>\n",
       "      <td>1.0</td>\n",
       "    </tr>\n",
       "    <tr>\n",
       "      <th>เคมี = Chemistry</th>\n",
       "      <th>Science Library</th>\n",
       "      <td>19.0</td>\n",
       "      <td>19.0</td>\n",
       "      <td>1.0</td>\n",
       "    </tr>\n",
       "  </tbody>\n",
       "</table>\n",
       "</div>"
      ],
      "text/plain": [
       "                                                                       rent_count  \\\n",
       "title                                     library                                   \n",
       "ใต้เงาอสูร                                Central Library (4th Floor)        40.0   \n",
       "การต่างประเทศไทยในยุคสงครามเย็น           Political Science Library          30.0   \n",
       "ทฤษฎีการเมืองกับความสัมพันธ์ระหว่างประเทศ Political Science Library          25.0   \n",
       "การบริหารงานคลังรัฐบาล                    Central Library (5th Floor)        24.0   \n",
       "เคมี = Chemistry                          Science Library                    19.0   \n",
       "\n",
       "                                                                       book_count  \\\n",
       "title                                     library                                   \n",
       "ใต้เงาอสูร                                Central Library (4th Floor)        40.0   \n",
       "การต่างประเทศไทยในยุคสงครามเย็น           Political Science Library          30.0   \n",
       "ทฤษฎีการเมืองกับความสัมพันธ์ระหว่างประเทศ Political Science Library          25.0   \n",
       "การบริหารงานคลังรัฐบาล                    Central Library (5th Floor)        24.0   \n",
       "เคมี = Chemistry                          Science Library                    19.0   \n",
       "\n",
       "                                                                       ratio  \n",
       "title                                     library                             \n",
       "ใต้เงาอสูร                                Central Library (4th Floor)    1.0  \n",
       "การต่างประเทศไทยในยุคสงครามเย็น           Political Science Library      1.0  \n",
       "ทฤษฎีการเมืองกับความสัมพันธ์ระหว่างประเทศ Political Science Library      1.0  \n",
       "การบริหารงานคลังรัฐบาล                    Central Library (5th Floor)    1.0  \n",
       "เคมี = Chemistry                          Science Library                1.0  "
      ]
     },
     "execution_count": 80,
     "metadata": {},
     "output_type": "execute_result"
    }
   ],
   "source": [
    "high_rent_sort = book_multiple_library[book_multiple_library['ratio'] >= 1].sort_values('rent_count', ascending=False)\n",
    "high_rent_sort.head()"
   ]
  },
  {
   "cell_type": "code",
   "execution_count": 123,
   "id": "9801d7bc-be92-4585-94d0-0536e6154102",
   "metadata": {},
   "outputs": [
    {
     "data": {
      "application/vnd.jupyter.widget-view+json": {
       "model_id": "d6f933ea61e14e2192c22059a08299fd",
       "version_major": 2,
       "version_minor": 0
      },
      "text/plain": [
       "Button(description='Next', style=ButtonStyle())"
      ]
     },
     "metadata": {},
     "output_type": "display_data"
    },
    {
     "data": {
      "application/vnd.jupyter.widget-view+json": {
       "model_id": "03d56ba3b370440487d04cba5685e357",
       "version_major": 2,
       "version_minor": 0
      },
      "text/plain": [
       "Output()"
      ]
     },
     "metadata": {},
     "output_type": "display_data"
    }
   ],
   "source": [
    "button = widgets.Button(description=\"Next\")\n",
    "output = widgets.Output()\n",
    "\n",
    "display(button, output)\n",
    "index = 0\n",
    "\n",
    "def on_button_clicked(b):\n",
    "    with output:\n",
    "        title = high_rent_sort.iloc[index].name[0]\n",
    "        book_multiple_library.loc[title]\n",
    "        display(title)\n",
    "        display(book_multiple_library.loc[title])\n",
    "        \n",
    "def clicked(b):\n",
    "    global index\n",
    "    index += 1\n",
    "    output.clear_output()\n",
    "    display(button)\n",
    "    on_button_clicked(b)\n",
    "\n",
    "button.on_click(clicked)"
   ]
  },
  {
   "cell_type": "code",
   "execution_count": 135,
   "id": "e06608a7-ec3f-46b7-873b-39405df12304",
   "metadata": {},
   "outputs": [
    {
     "name": "stdout",
     "output_type": "stream",
     "text": [
      "library\n",
      "Arts Library                 3.0\n",
      "Political Science Library    5.0\n",
      "Name: rent_count, dtype: float64\n",
      "library\n",
      "Arts Library                 3.0\n",
      "Political Science Library    5.0\n",
      "Name: book_count, dtype: float64\n",
      "library\n",
      "Arts Library                 1.0\n",
      "Political Science Library    1.0\n",
      "Name: ratio, dtype: float64\n"
     ]
    },
    {
     "data": {
      "text/plain": [
       "rent_count    None\n",
       "book_count    None\n",
       "ratio         None\n",
       "dtype: object"
      ]
     },
     "execution_count": 135,
     "metadata": {},
     "output_type": "execute_result"
    }
   ],
   "source": [
    "book_multiple_library.loc[book_multiple_library.index.get_level_values(0)[0]].apply(print)"
   ]
  },
  {
   "cell_type": "markdown",
   "id": "d07932b9-b51c-4702-a560-3532cdde558c",
   "metadata": {},
   "source": [
    "## Compare\n",
    "\n",
    "\\[bcA bcB<br/>\n",
    "  rA rB\\]"
   ]
  },
  {
   "cell_type": "code",
   "execution_count": 170,
   "id": "361d2573-b85c-4b78-a064-e7b8936c92d2",
   "metadata": {},
   "outputs": [
    {
     "data": {
      "text/html": [
       "<div>\n",
       "<style scoped>\n",
       "    .dataframe tbody tr th:only-of-type {\n",
       "        vertical-align: middle;\n",
       "    }\n",
       "\n",
       "    .dataframe tbody tr th {\n",
       "        vertical-align: top;\n",
       "    }\n",
       "\n",
       "    .dataframe thead th {\n",
       "        text-align: right;\n",
       "    }\n",
       "</style>\n",
       "<table border=\"1\" class=\"dataframe\">\n",
       "  <thead>\n",
       "    <tr style=\"text-align: right;\">\n",
       "      <th></th>\n",
       "      <th></th>\n",
       "      <th>rent_count</th>\n",
       "      <th>book_count</th>\n",
       "      <th>ratio</th>\n",
       "    </tr>\n",
       "    <tr>\n",
       "      <th>title</th>\n",
       "      <th>library</th>\n",
       "      <th></th>\n",
       "      <th></th>\n",
       "      <th></th>\n",
       "    </tr>\n",
       "  </thead>\n",
       "  <tbody>\n",
       "    <tr>\n",
       "      <th rowspan=\"2\" valign=\"top\">\"ข้ออ้าง\" การปฏิวัติ-รัฐประหาร : กบฏในการเมืองไทยปัจจุบัน บทวิเคราะห์และเอกสาร = \"Reason\" for coups in modern Siam/Thailand : document and analysis</th>\n",
       "      <th>Political Science Library</th>\n",
       "      <td>6.0</td>\n",
       "      <td>15.0</td>\n",
       "      <td>0.400000</td>\n",
       "    </tr>\n",
       "    <tr>\n",
       "      <th>Thailand and ASEAN Information Center (6th Floor)</th>\n",
       "      <td>1.0</td>\n",
       "      <td>2.0</td>\n",
       "      <td>0.500000</td>\n",
       "    </tr>\n",
       "    <tr>\n",
       "      <th rowspan=\"2\" valign=\"top\">\"ข้ออ้าง\" การปฏิวัติ-รัฐประหารในการเมืองไทยสมัยใหม่</th>\n",
       "      <th>Central Library (5th Floor)</th>\n",
       "      <td>7.0</td>\n",
       "      <td>10.0</td>\n",
       "      <td>0.700000</td>\n",
       "    </tr>\n",
       "    <tr>\n",
       "      <th>Political Science Library</th>\n",
       "      <td>9.0</td>\n",
       "      <td>14.0</td>\n",
       "      <td>0.642857</td>\n",
       "    </tr>\n",
       "    <tr>\n",
       "      <th>\"คนซิ่งอีสาน\" : ร่างกาย กามารมณ์ อัตลักษณ์ และเสียงสะท้อนของคนทุกข์ในหมอลำซิ่ง</th>\n",
       "      <th>Arts Library</th>\n",
       "      <td>1.0</td>\n",
       "      <td>6.0</td>\n",
       "      <td>0.166667</td>\n",
       "    </tr>\n",
       "    <tr>\n",
       "      <th>...</th>\n",
       "      <th>...</th>\n",
       "      <td>...</td>\n",
       "      <td>...</td>\n",
       "      <td>...</td>\n",
       "    </tr>\n",
       "    <tr>\n",
       "      <th>ไอแซก อาซิมอฟ ถาม-ตอบเรื่องโลกและจักรวาล = Isaac Asimov's guide to earth and space</th>\n",
       "      <th>Education Library</th>\n",
       "      <td>1.0</td>\n",
       "      <td>3.0</td>\n",
       "      <td>0.333333</td>\n",
       "    </tr>\n",
       "    <tr>\n",
       "      <th rowspan=\"2\" valign=\"top\">ไฮดี้ = Heidi</th>\n",
       "      <th>Arts Library</th>\n",
       "      <td>1.0</td>\n",
       "      <td>19.0</td>\n",
       "      <td>0.052632</td>\n",
       "    </tr>\n",
       "    <tr>\n",
       "      <th>Central Library : Juvenile Collection (4th Floor)</th>\n",
       "      <td>5.0</td>\n",
       "      <td>11.0</td>\n",
       "      <td>0.454545</td>\n",
       "    </tr>\n",
       "    <tr>\n",
       "      <th rowspan=\"2\" valign=\"top\">ไฮเทคาถาปาฏิหาริย์ ว่าด้วยวิทยาศาสตร์และเทคโนโลยีในสังคมไทย</th>\n",
       "      <th>Central Library (5th Floor)</th>\n",
       "      <td>2.0</td>\n",
       "      <td>10.0</td>\n",
       "      <td>0.200000</td>\n",
       "    </tr>\n",
       "    <tr>\n",
       "      <th>Thailand and ASEAN Information Center (6th Floor)</th>\n",
       "      <td>1.0</td>\n",
       "      <td>2.0</td>\n",
       "      <td>0.500000</td>\n",
       "    </tr>\n",
       "  </tbody>\n",
       "</table>\n",
       "<p>21502 rows × 3 columns</p>\n",
       "</div>"
      ],
      "text/plain": [
       "                                                                                                      rent_count  \\\n",
       "title                                              library                                                         \n",
       "\"ข้ออ้าง\" การปฏิวัติ-รัฐประหาร : กบฏในการเมืองไ... Political Science Library                                 6.0   \n",
       "                                                   Thailand and ASEAN Information Center (6th Floor)         1.0   \n",
       "\"ข้ออ้าง\" การปฏิวัติ-รัฐประหารในการเมืองไทยสมัย... Central Library (5th Floor)                               7.0   \n",
       "                                                   Political Science Library                                 9.0   \n",
       "\"คนซิ่งอีสาน\" : ร่างกาย กามารมณ์ อัตลักษณ์ และเ... Arts Library                                              1.0   \n",
       "...                                                                                                          ...   \n",
       "ไอแซก อาซิมอฟ ถาม-ตอบเรื่องโลกและจักรวาล = Isaa... Education Library                                         1.0   \n",
       "ไฮดี้ = Heidi                                      Arts Library                                              1.0   \n",
       "                                                   Central Library : Juvenile Collection (4th Floor)         5.0   \n",
       "ไฮเทคาถาปาฏิหาริย์ ว่าด้วยวิทยาศาสตร์และเทคโนโล... Central Library (5th Floor)                               2.0   \n",
       "                                                   Thailand and ASEAN Information Center (6th Floor)         1.0   \n",
       "\n",
       "                                                                                                      book_count  \\\n",
       "title                                              library                                                         \n",
       "\"ข้ออ้าง\" การปฏิวัติ-รัฐประหาร : กบฏในการเมืองไ... Political Science Library                                15.0   \n",
       "                                                   Thailand and ASEAN Information Center (6th Floor)         2.0   \n",
       "\"ข้ออ้าง\" การปฏิวัติ-รัฐประหารในการเมืองไทยสมัย... Central Library (5th Floor)                              10.0   \n",
       "                                                   Political Science Library                                14.0   \n",
       "\"คนซิ่งอีสาน\" : ร่างกาย กามารมณ์ อัตลักษณ์ และเ... Arts Library                                              6.0   \n",
       "...                                                                                                          ...   \n",
       "ไอแซก อาซิมอฟ ถาม-ตอบเรื่องโลกและจักรวาล = Isaa... Education Library                                         3.0   \n",
       "ไฮดี้ = Heidi                                      Arts Library                                             19.0   \n",
       "                                                   Central Library : Juvenile Collection (4th Floor)        11.0   \n",
       "ไฮเทคาถาปาฏิหาริย์ ว่าด้วยวิทยาศาสตร์และเทคโนโล... Central Library (5th Floor)                              10.0   \n",
       "                                                   Thailand and ASEAN Information Center (6th Floor)         2.0   \n",
       "\n",
       "                                                                                                         ratio  \n",
       "title                                              library                                                      \n",
       "\"ข้ออ้าง\" การปฏิวัติ-รัฐประหาร : กบฏในการเมืองไ... Political Science Library                          0.400000  \n",
       "                                                   Thailand and ASEAN Information Center (6th Floor)  0.500000  \n",
       "\"ข้ออ้าง\" การปฏิวัติ-รัฐประหารในการเมืองไทยสมัย... Central Library (5th Floor)                        0.700000  \n",
       "                                                   Political Science Library                          0.642857  \n",
       "\"คนซิ่งอีสาน\" : ร่างกาย กามารมณ์ อัตลักษณ์ และเ... Arts Library                                       0.166667  \n",
       "...                                                                                                        ...  \n",
       "ไอแซก อาซิมอฟ ถาม-ตอบเรื่องโลกและจักรวาล = Isaa... Education Library                                  0.333333  \n",
       "ไฮดี้ = Heidi                                      Arts Library                                       0.052632  \n",
       "                                                   Central Library : Juvenile Collection (4th Floor)  0.454545  \n",
       "ไฮเทคาถาปาฏิหาริย์ ว่าด้วยวิทยาศาสตร์และเทคโนโล... Central Library (5th Floor)                        0.200000  \n",
       "                                                   Thailand and ASEAN Information Center (6th Floor)  0.500000  \n",
       "\n",
       "[21502 rows x 3 columns]"
      ]
     },
     "execution_count": 170,
     "metadata": {},
     "output_type": "execute_result"
    }
   ],
   "source": [
    "def compare(ser):\n",
    "    book = ser['book_count'].values\n",
    "    ratio = ser['ratio'].values\n",
    "    idx_min = np.argmin(ratio)\n",
    "    idx_max = np.argmax(ratio)\n",
    "#     print(book[idx_max], book[idx_min])\n",
    "    unbalance = book[idx_max] < book[idx_min]\n",
    "    return unbalance\n",
    "    \n",
    "book_multiple_library.iloc[:].groupby(level=0).filter(compare)"
   ]
  },
  {
   "cell_type": "code",
   "execution_count": 201,
   "id": "c69c2570-a4bc-4247-8f4a-63a0fafd2a97",
   "metadata": {},
   "outputs": [
    {
     "data": {
      "image/png": "[encoded data removed]",
      "text/plain": [
       "<Figure size 180x720 with 2 Axes>"
      ]
     },
     "metadata": {
      "needs_background": "light"
     },
     "output_type": "display_data"
    }
   ],
   "source": [
    "title = 'ไฮดี้ = Heidi'\n",
    "x = book_multiple_library.loc[title].index\n",
    "d = book_multiple_library.loc[title].values\n",
    "fig, axs = plt.subplots(2)\n",
    "axs[0].bar(x=x, \n",
    "           height=d[:,1])\n",
    "axs[1].bar(x=x, \n",
    "           height=d[:,2])\n",
    "fig.set_size_inches(2.5, 10)"
   ]
  },
  {
   "cell_type": "code",
   "execution_count": null,
   "id": "1b5a5b12-cf00-4100-a9dc-e4acda9a5d51",
   "metadata": {},
   "outputs": [],
   "source": []
  }
 ],
 "metadata": {
  "kernelspec": {
   "display_name": "Python 3",
   "language": "python",
   "name": "python3"
  },
  "language_info": {
   "codemirror_mode": {
    "name": "ipython",
    "version": 3
   },
   "file_extension": ".py",
   "mimetype": "text/x-python",
   "name": "python",
   "nbconvert_exporter": "python",
   "pygments_lexer": "ipython3",
   "version": "3.8.8"
  }
 },
 "nbformat": 4,
 "nbformat_minor": 5
}
